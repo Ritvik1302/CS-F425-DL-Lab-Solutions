{
  "cells": [
    {
      "cell_type": "markdown",
      "id": "0c1d67cc",
      "metadata": {
        "id": "0c1d67cc"
      },
      "source": [
        "## Mention your Name and ID in the blanks below\n",
        "## Name - Ritvik Mittal\n",
        "## ID - 2021A8PS2545P"
      ]
    },
    {
      "cell_type": "markdown",
      "id": "rGbHDfaqfwtY",
      "metadata": {
        "id": "rGbHDfaqfwtY"
      },
      "source": [
        "# **Graded question 1**"
      ]
    },
    {
      "cell_type": "code",
      "execution_count": null,
      "id": "71798403",
      "metadata": {
        "id": "71798403",
        "outputId": "b89c8fa9-4793-4458-fdf6-01c0a311db4f"
      },
      "outputs": [
        {
          "data": {
            "text/plain": [
              "[<matplotlib.lines.Line2D at 0x1ecb78ec3d0>]"
            ]
          },
          "execution_count": 21,
          "metadata": {},
          "output_type": "execute_result"
        },
        {
          "data": {
            "image/png": "[encoded data removed]",
            "text/plain": [
              "<Figure size 640x480 with 1 Axes>"
            ]
          },
          "metadata": {},
          "output_type": "display_data"
        }
      ],
      "source": [
        "# Graded Question\n",
        "# Plot the cost function vs number of iterations using pyplot (plt) from matplotlib\n",
        "plt.plot([i for i in range(0,2000,100)], d['costs'])"
      ]
    },
    {
      "cell_type": "markdown",
      "id": "BppvgKw6gAEv",
      "metadata": {
        "id": "BppvgKw6gAEv"
      },
      "source": [
        "# **Graded question 2**"
      ]
    },
    {
      "cell_type": "code",
      "execution_count": null,
      "id": "0e489c2e",
      "metadata": {
        "id": "0e489c2e",
        "outputId": "e261adac-feb7-4a60-8867-02c4d7d157a9"
      },
      "outputs": [
        {
          "name": "stdout",
          "output_type": "stream",
          "text": [
            "0.8214285714285714 0.696969696969697 0.7540983606557378\n",
            "0.9861111111111112 0.9861111111111112 0.9861111111111112\n"
          ]
        }
      ],
      "source": [
        "# Graded Question\n",
        "# Find Precision, Recall and F1 score for both the train and test predictions\n",
        "def calculate_metrics(y_true, y_pred):\n",
        "    TP = FP = FN = TN = 0\n",
        "\n",
        "    for i in range(0, len(y_pred)-1):\n",
        "        true = y_true[i]\n",
        "        pred = y_pred[i]\n",
        "        if true == 1 and pred == 1:\n",
        "            TP += 1\n",
        "        elif true == 0 and pred == 1:\n",
        "            FP += 1\n",
        "        elif true == 1 and pred == 0:\n",
        "            FN += 1\n",
        "        elif true == 0 and pred == 0:\n",
        "            TN += 1\n",
        "\n",
        "    if (TP + FP) == 0:\n",
        "        precision = 0\n",
        "    else:\n",
        "        precision = TP / (TP + FP)\n",
        "\n",
        "    if (TP + FN) == 0:\n",
        "        recall = 0\n",
        "    else:\n",
        "        recall = TP / (TP + FN)\n",
        "\n",
        "    if (precision + recall) == 0:\n",
        "        f1_score = 0\n",
        "    else:\n",
        "        f1_score = 2 * (precision * recall) / (precision + recall)\n",
        "\n",
        "    return precision, recall, f1_score\n",
        "\n",
        "pred_test_y = d['Y_prediction_test'].flatten()\n",
        "pred_test_y = [int(round(pred)) for pred in pred_test_y]\n",
        "\n",
        "precision_test, recall_test, f1_score_test = calculate_metrics(test_y.flatten(), pred_test_y)\n",
        "print(precision_test,recall_test,f1_score_test)\n",
        "\n",
        "pred_train_y = d['Y_prediction_train'].flatten()\n",
        "pred_train_y = [int(round(pred)) for pred in pred_train_y]\n",
        "\n",
        "precision_train, recall_train, f1_score_train = calculate_metrics(train_y.flatten(), pred_train_y)\n",
        "print(precision_train,recall_train,f1_score_train)"
      ]
    },
    {
      "cell_type": "markdown",
      "id": "tw6cnJBmgQtK",
      "metadata": {
        "id": "tw6cnJBmgQtK"
      },
      "source": [
        "# **Graded questions 3 and 4**\n"
      ]
    },
    {
      "cell_type": "markdown",
      "id": "3acbc40e",
      "metadata": {
        "id": "3acbc40e"
      },
      "source": [
        "Evaluative Component:\n",
        "3. Create a train/test split from the dataset (#GRADED)\n",
        "\n",
        "4. Evaluate the testing split and it's accuracy (#GRADED)"
      ]
    },
    {
      "cell_type": "code",
      "execution_count": 91,
      "id": "aYE5o84B7j0X",
      "metadata": {
        "colab": {
          "base_uri": "https://localhost:8080/"
        },
        "id": "aYE5o84B7j0X",
        "outputId": "e78f24cb-9417-4e71-a8b9-ded6cbbd4780"
      },
      "outputs": [
        {
          "name": "stdout",
          "output_type": "stream",
          "text": [
            "torch.Size([712, 12])\n",
            "torch.Size([179, 12])\n",
            "torch.Size([712, 1])\n",
            "torch.Size([179, 1])\n"
          ]
        }
      ],
      "source": [
        "from sklearn.model_selection import train_test_split\n",
        "\n",
        "X_train, X_test,y_train , y_test = train_test_split(t_indep, t_dep, test_size=0.2, random_state=42)\n",
        "\n",
        "print(X_train.shape)\n",
        "print(X_test.shape)\n",
        "print(y_train.shape)\n",
        "print(y_test.shape)"
      ]
    },
    {
      "cell_type": "code",
      "execution_count": 94,
      "id": "tDs8F6mr-Elk",
      "metadata": {
        "colab": {
          "base_uri": "https://localhost:8080/"
        },
        "id": "tDs8F6mr-Elk",
        "outputId": "f6addbe3-2076-4c7e-c1e3-e50bd705d39c"
      },
      "outputs": [
        {
          "name": "stdout",
          "output_type": "stream",
          "text": [
            "tensor(0.6369)\n"
          ]
        }
      ],
      "source": [
        "import torch\n",
        "import torch.nn.functional as F\n",
        "\n",
        "def init_coeffs(n_coeff, n_hidden=60):\n",
        "    layer1 = (torch.rand(n_coeff, n_hidden) - 0.5) / n_hidden\n",
        "    layer2 = torch.rand(n_hidden, 1) - 0.3\n",
        "    const = torch.rand(1)[0]\n",
        "    return layer1.requires_grad_(), layer2.requires_grad_(), const.requires_grad_()\n",
        "\n",
        "def preds(coeffs, indeps):\n",
        "    layer1, layer2, const = coeffs\n",
        "    res = F.relu(indeps @ layer1)\n",
        "    res = res @ layer2 + const\n",
        "    return torch.sigmoid(res)\n",
        "\n",
        "def calc_loss(coeffs, indeps, deps):\n",
        "    return torch.abs(preds(coeffs, indeps) - deps).mean()\n",
        "\n",
        "def update_coeffs(coeffs, lr=0.1):\n",
        "    for layer in coeffs:\n",
        "        layer.sub_(layer.grad * lr)\n",
        "        layer.grad.zero_()\n",
        "\n",
        "def one_epoch(coeffs, indeps, deps, lr):\n",
        "    loss = calc_loss(coeffs, indeps, deps)\n",
        "    loss.backward()\n",
        "    with torch.no_grad():\n",
        "        update_coeffs(coeffs, lr)\n",
        "    # print(f\"Loss: {loss.item():.3f}\", end=\"; \")\n",
        "\n",
        "def train_model(X_train, y_train, epochs=300, lr=0.1, n_hidden=60):\n",
        "    torch.manual_seed(442)\n",
        "    n_coeff = X_train.size(1)\n",
        "    coeffs = init_coeffs(n_coeff, n_hidden=n_hidden)\n",
        "    for i in range(epochs):\n",
        "        one_epoch(coeffs, X_train, y_train, lr=lr)\n",
        "    return coeffs\n",
        "\n",
        "coeffs = train_model(X_train, y_train, epochs=300, lr=0.01, n_hidden=60)\n",
        "\n",
        "with torch.no_grad():\n",
        "    predictions = preds(coeffs, X_test).squeeze()\n",
        "\n",
        "    predicted_labels = (predictions > 0.5).float()\n",
        "    accuracy = (predicted_labels == y_test.squeeze()).float().mean()\n",
        "    print(accuracy)\n"
      ]
    }
  ],
  "metadata": {
    "colab": {
      "provenance": []
    },
    "kernelspec": {
      "display_name": "Python 3",
      "name": "python3"
    },
    "language_info": {
      "codemirror_mode": {
        "name": "ipython",
        "version": 3
      },
      "file_extension": ".py",
      "mimetype": "text/x-python",
      "name": "python",
      "nbconvert_exporter": "python",
      "pygments_lexer": "ipython3",
      "version": "3.10.11"
    }
  },
  "nbformat": 4,
  "nbformat_minor": 5
}
