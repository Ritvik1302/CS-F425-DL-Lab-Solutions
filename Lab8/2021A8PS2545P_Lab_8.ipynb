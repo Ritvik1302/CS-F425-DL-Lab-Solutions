{
  "nbformat": 4,
  "nbformat_minor": 0,
  "metadata": {
    "colab": {
      "provenance": [],
      "gpuType": "T4"
    },
    "kernelspec": {
      "name": "python3",
      "display_name": "Python 3"
    },
    "language_info": {
      "name": "python"
    },
    "accelerator": "GPU"
  },
  "cells": [
    {
      "cell_type": "code",
      "execution_count": 1,
      "metadata": {
        "id": "FE5ihpNxdLvh"
      },
      "outputs": [],
      "source": [
        "import torch\n",
        "import matplotlib.pyplot as plt\n",
        "from torch import nn\n",
        "from torch.optim import Adam\n",
        "from torchvision import datasets\n",
        "import torchvision.transforms as transforms"
      ]
    },
    {
      "cell_type": "code",
      "source": [
        "transform = transforms.ToTensor()\n",
        "\n",
        "train_data = datasets.MNIST(root='~/.pytorch/MNIST_data/', train=True,\n",
        "                            download=True, transform=transform)\n",
        "test_data = datasets.MNIST(root='~/.pytorch/MNIST_data/', train=False,\n",
        "                           download=True, transform=transform)\n",
        "\n",
        "batch_size = 100\n",
        "train_loader = torch.utils.data.DataLoader(train_data, batch_size=batch_size, num_workers=0)\n",
        "test_loader = torch.utils.data.DataLoader(test_data, batch_size=batch_size, num_workers=0)"
      ],
      "metadata": {
        "colab": {
          "base_uri": "https://localhost:8080/"
        },
        "id": "Gngx2cetdX7e",
        "outputId": "f5c99122-9d60-4dea-ce05-daea1760b316"
      },
      "execution_count": 2,
      "outputs": [
        {
          "output_type": "stream",
          "name": "stdout",
          "text": [
            "Downloading http://yann.lecun.com/exdb/mnist/train-images-idx3-ubyte.gz\n",
            "Failed to download (trying next):\n",
            "HTTP Error 403: Forbidden\n",
            "\n",
            "Downloading https://ossci-datasets.s3.amazonaws.com/mnist/train-images-idx3-ubyte.gz\n",
            "Downloading https://ossci-datasets.s3.amazonaws.com/mnist/train-images-idx3-ubyte.gz to /root/.pytorch/MNIST_data/MNIST/raw/train-images-idx3-ubyte.gz\n"
          ]
        },
        {
          "output_type": "stream",
          "name": "stderr",
          "text": [
            "100%|██████████| 9.91M/9.91M [00:00<00:00, 17.9MB/s]\n"
          ]
        },
        {
          "output_type": "stream",
          "name": "stdout",
          "text": [
            "Extracting /root/.pytorch/MNIST_data/MNIST/raw/train-images-idx3-ubyte.gz to /root/.pytorch/MNIST_data/MNIST/raw\n",
            "\n",
            "Downloading http://yann.lecun.com/exdb/mnist/train-labels-idx1-ubyte.gz\n",
            "Failed to download (trying next):\n",
            "HTTP Error 403: Forbidden\n",
            "\n",
            "Downloading https://ossci-datasets.s3.amazonaws.com/mnist/train-labels-idx1-ubyte.gz\n",
            "Downloading https://ossci-datasets.s3.amazonaws.com/mnist/train-labels-idx1-ubyte.gz to /root/.pytorch/MNIST_data/MNIST/raw/train-labels-idx1-ubyte.gz\n"
          ]
        },
        {
          "output_type": "stream",
          "name": "stderr",
          "text": [
            "100%|██████████| 28.9k/28.9k [00:00<00:00, 486kB/s]\n"
          ]
        },
        {
          "output_type": "stream",
          "name": "stdout",
          "text": [
            "Extracting /root/.pytorch/MNIST_data/MNIST/raw/train-labels-idx1-ubyte.gz to /root/.pytorch/MNIST_data/MNIST/raw\n",
            "\n",
            "Downloading http://yann.lecun.com/exdb/mnist/t10k-images-idx3-ubyte.gz\n",
            "Failed to download (trying next):\n",
            "HTTP Error 403: Forbidden\n",
            "\n",
            "Downloading https://ossci-datasets.s3.amazonaws.com/mnist/t10k-images-idx3-ubyte.gz\n",
            "Downloading https://ossci-datasets.s3.amazonaws.com/mnist/t10k-images-idx3-ubyte.gz to /root/.pytorch/MNIST_data/MNIST/raw/t10k-images-idx3-ubyte.gz\n"
          ]
        },
        {
          "output_type": "stream",
          "name": "stderr",
          "text": [
            "100%|██████████| 1.65M/1.65M [00:00<00:00, 4.45MB/s]\n"
          ]
        },
        {
          "output_type": "stream",
          "name": "stdout",
          "text": [
            "Extracting /root/.pytorch/MNIST_data/MNIST/raw/t10k-images-idx3-ubyte.gz to /root/.pytorch/MNIST_data/MNIST/raw\n",
            "\n",
            "Downloading http://yann.lecun.com/exdb/mnist/t10k-labels-idx1-ubyte.gz\n",
            "Failed to download (trying next):\n",
            "HTTP Error 403: Forbidden\n",
            "\n",
            "Downloading https://ossci-datasets.s3.amazonaws.com/mnist/t10k-labels-idx1-ubyte.gz\n",
            "Downloading https://ossci-datasets.s3.amazonaws.com/mnist/t10k-labels-idx1-ubyte.gz to /root/.pytorch/MNIST_data/MNIST/raw/t10k-labels-idx1-ubyte.gz\n"
          ]
        },
        {
          "output_type": "stream",
          "name": "stderr",
          "text": [
            "100%|██████████| 4.54k/4.54k [00:00<00:00, 10.7MB/s]"
          ]
        },
        {
          "output_type": "stream",
          "name": "stdout",
          "text": [
            "Extracting /root/.pytorch/MNIST_data/MNIST/raw/t10k-labels-idx1-ubyte.gz to /root/.pytorch/MNIST_data/MNIST/raw\n",
            "\n"
          ]
        },
        {
          "output_type": "stream",
          "name": "stderr",
          "text": [
            "\n"
          ]
        }
      ]
    },
    {
      "cell_type": "code",
      "source": [
        "DEVICE = torch.device(\"cuda\" if torch.cuda.is_available() else \"cpu\")\n",
        "\n",
        "x_dim = 784\n",
        "hidden_dim = 400\n",
        "latent_dim = 200\n",
        "lr = 1e-3\n",
        "epochs = 30"
      ],
      "metadata": {
        "id": "IJVBk-cKdYn9"
      },
      "execution_count": 3,
      "outputs": []
    },
    {
      "cell_type": "code",
      "source": [
        "class Encoder(nn.Module):\n",
        "    def __init__(self, input_dim, hidden_dim, latent_dim):\n",
        "        super(Encoder, self).__init__()\n",
        "        self.FC_input = nn.Linear(input_dim, hidden_dim)\n",
        "        self.FC_input2 = nn.Linear(hidden_dim, hidden_dim)\n",
        "        self.FC_mean = nn.Linear(hidden_dim, latent_dim)\n",
        "        self.FC_var = nn.Linear(hidden_dim, latent_dim)\n",
        "        self.LeakyReLU = nn.LeakyReLU(0.2)\n",
        "\n",
        "    def forward(self, x):\n",
        "        h_ = self.LeakyReLU(self.FC_input(x))\n",
        "        h_ = self.LeakyReLU(self.FC_input2(h_))\n",
        "        mean = self.FC_mean(h_)\n",
        "        log_var = self.FC_var(h_)\n",
        "        return mean, log_var"
      ],
      "metadata": {
        "id": "7ddEjlsRdaDZ"
      },
      "execution_count": 4,
      "outputs": []
    },
    {
      "cell_type": "code",
      "source": [
        "class Decoder(nn.Module):\n",
        "    def __init__(self, latent_dim, hidden_dim, output_dim):\n",
        "        super(Decoder, self).__init__()\n",
        "        self.FC_hidden = nn.Linear(latent_dim, hidden_dim)\n",
        "        self.FC_hidden2 = nn.Linear(hidden_dim, hidden_dim)\n",
        "        self.FC_output = nn.Linear(hidden_dim, output_dim)\n",
        "        self.LeakyReLU = nn.LeakyReLU(0.2)\n",
        "\n",
        "    def forward(self, x):\n",
        "        h = self.LeakyReLU(self.FC_hidden(x))\n",
        "        h = self.LeakyReLU(self.FC_hidden2(h))\n",
        "        x_hat = torch.sigmoid(self.FC_output(h))\n",
        "        return x_hat"
      ],
      "metadata": {
        "id": "kb0fYHXydcJd"
      },
      "execution_count": 5,
      "outputs": []
    },
    {
      "cell_type": "code",
      "source": [
        "class Model(nn.Module):\n",
        "    def __init__(self, Encoder, Decoder):\n",
        "        super(Model, self).__init__()\n",
        "        self.Encoder = Encoder\n",
        "        self.Decoder = Decoder\n",
        "\n",
        "    def reparameterization(self, mean, var):\n",
        "        epsilon = torch.randn_like(var).to(DEVICE)\n",
        "        z = mean + var * epsilon\n",
        "        return z\n",
        "\n",
        "    def forward(self, x):\n",
        "        mean, log_var = self.Encoder(x)\n",
        "        z = self.reparameterization(mean, torch.exp(0.5 * log_var))\n",
        "        x_hat = self.Decoder(z)\n",
        "        return x_hat, mean, log_var"
      ],
      "metadata": {
        "id": "MdVYkzTydd7I"
      },
      "execution_count": 6,
      "outputs": []
    },
    {
      "cell_type": "code",
      "source": [
        "encoder = Encoder(input_dim=x_dim, hidden_dim=hidden_dim, latent_dim=latent_dim)\n",
        "decoder = Decoder(latent_dim=latent_dim, hidden_dim=hidden_dim, output_dim=x_dim)\n",
        "model = Model(Encoder=encoder, Decoder=decoder).to(DEVICE)"
      ],
      "metadata": {
        "id": "6ZRBugqOdhGb"
      },
      "execution_count": 7,
      "outputs": []
    },
    {
      "cell_type": "code",
      "source": [
        "def loss_function(x, x_hat, mean, log_var):\n",
        "    reproduction_loss = nn.functional.binary_cross_entropy(x_hat, x, reduction='sum')\n",
        "    KLD = -0.5 * torch.sum(1 + log_var - mean.pow(2) - log_var.exp())\n",
        "    return reproduction_loss + KLD\n",
        "\n",
        "optimizer = Adam(model.parameters(), lr=lr)"
      ],
      "metadata": {
        "id": "vkRylBRwdjek"
      },
      "execution_count": 8,
      "outputs": []
    },
    {
      "cell_type": "code",
      "source": [
        "model.train()\n",
        "for epoch in range(epochs):\n",
        "    train_loss = 0.0\n",
        "    for batch_idx, (data, _) in enumerate(train_loader):\n",
        "        data = data.view(data.size(0), -1).to(DEVICE)\n",
        "        optimizer.zero_grad()\n",
        "        x_hat, mean, log_var = model(data)\n",
        "        loss = loss_function(data, x_hat, mean, log_var)\n",
        "        loss.backward()\n",
        "        optimizer.step()\n",
        "        train_loss += loss.item()\n",
        "\n",
        "    train_loss /= len(train_loader.dataset)\n",
        "    print(f\"Epoch {epoch + 1}/{epochs}, Loss: {train_loss:.4f}\")"
      ],
      "metadata": {
        "colab": {
          "base_uri": "https://localhost:8080/"
        },
        "id": "f_cic1ryeGyZ",
        "outputId": "b8006560-f7a8-4912-d6d3-eacc022555e3"
      },
      "execution_count": 12,
      "outputs": [
        {
          "output_type": "stream",
          "name": "stdout",
          "text": [
            "Epoch 1/30, Loss: 178.5274\n",
            "Epoch 2/30, Loss: 131.0387\n",
            "Epoch 3/30, Loss: 119.9630\n",
            "Epoch 4/30, Loss: 115.1232\n",
            "Epoch 5/30, Loss: 111.9784\n",
            "Epoch 6/30, Loss: 110.0477\n",
            "Epoch 7/30, Loss: 108.7512\n",
            "Epoch 8/30, Loss: 107.6095\n",
            "Epoch 9/30, Loss: 106.8335\n",
            "Epoch 10/30, Loss: 105.9559\n",
            "Epoch 11/30, Loss: 105.3936\n",
            "Epoch 12/30, Loss: 104.7807\n",
            "Epoch 13/30, Loss: 104.2883\n",
            "Epoch 14/30, Loss: 104.0266\n",
            "Epoch 15/30, Loss: 103.5921\n",
            "Epoch 16/30, Loss: 103.2866\n",
            "Epoch 17/30, Loss: 102.9696\n",
            "Epoch 18/30, Loss: 102.7797\n",
            "Epoch 19/30, Loss: 102.5206\n",
            "Epoch 20/30, Loss: 102.3022\n",
            "Epoch 21/30, Loss: 102.1662\n",
            "Epoch 22/30, Loss: 101.9019\n",
            "Epoch 23/30, Loss: 101.7883\n",
            "Epoch 24/30, Loss: 101.6770\n",
            "Epoch 25/30, Loss: 101.5053\n",
            "Epoch 26/30, Loss: 101.4578\n",
            "Epoch 27/30, Loss: 101.1730\n",
            "Epoch 28/30, Loss: 101.0856\n",
            "Epoch 29/30, Loss: 101.1015\n",
            "Epoch 30/30, Loss: 100.9687\n"
          ]
        }
      ]
    },
    {
      "cell_type": "code",
      "source": [
        "model.eval()\n",
        "\n",
        "with torch.no_grad():\n",
        "\n",
        "    gaussian_noise = torch.randn(batch_size, latent_dim).to(DEVICE)\n",
        "    gaussian_images = decoder(gaussian_noise)\n",
        "\n",
        "    poisson_noise = torch.poisson(torch.ones(batch_size, latent_dim)).to(DEVICE)\n",
        "    poisson_images = decoder(poisson_noise)\n",
        "\n",
        "    uniform_noise = torch.rand(batch_size, latent_dim).to(DEVICE)\n",
        "    uniform_images = decoder(uniform_noise)"
      ],
      "metadata": {
        "id": "Y3HDpo7JdlV-"
      },
      "execution_count": 13,
      "outputs": []
    },
    {
      "cell_type": "code",
      "source": [
        "def show_images(images, title, idx=10):\n",
        "    images = images.view(batch_size, 28, 28).cpu()\n",
        "    fig, axes = plt.subplots(1, idx, figsize=(15, 2))\n",
        "    fig.suptitle(title)\n",
        "    for i in range(idx):\n",
        "        axes[i].imshow(images[i], cmap='gray')\n",
        "        axes[i].axis('off')\n",
        "    plt.show()"
      ],
      "metadata": {
        "id": "oZc3VbcqdnKn"
      },
      "execution_count": 10,
      "outputs": []
    },
    {
      "cell_type": "code",
      "source": [
        "show_images(gaussian_images, \"Generated Images with Gaussian Noise\")\n",
        "show_images(poisson_images, \"Generated Images with Poisson Noise\")\n",
        "show_images(uniform_images, \"Generated Images with Uniform Noise\")"
      ],
      "metadata": {
        "colab": {
          "base_uri": "https://localhost:8080/",
          "height": 515
        },
        "id": "lTcj4N30dot5",
        "outputId": "95973c1e-a583-49af-b1cc-d70408020a87"
      },
      "execution_count": 14,
      "outputs": [
        {
          "output_type": "display_data",
          "data": {
            "text/plain": [
              "<Figure size 1500x200 with 10 Axes>"
            ],
            "image/png": "[encoded data removed]"
          },
          "metadata": {}
        },
        {
          "output_type": "display_data",
          "data": {
            "text/plain": [
              "<Figure size 1500x200 with 10 Axes>"
            ],
            "image/png": "[encoded data removed]"
          },
          "metadata": {}
        },
        {
          "output_type": "display_data",
          "data": {
            "text/plain": [
              "<Figure size 1500x200 with 10 Axes>"
            ],
            "image/png": "[encoded data removed]"
          },
          "metadata": {}
        }
      ]
    }
  ]
}