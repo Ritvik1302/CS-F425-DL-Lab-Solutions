{
  "cells": [
    {
      "cell_type": "code",
      "execution_count": 1,
      "metadata": {
        "colab": {
          "base_uri": "https://localhost:8080/"
        },
        "id": "kqRt8yXEnMYI",
        "outputId": "ec5a8c05-4624-4212-f79a-26d96887bcfc"
      },
      "outputs": [
        {
          "name": "stdout",
          "output_type": "stream",
          "text": [
            "Mounted at /content/drive\n"
          ]
        }
      ],
      "source": [
        "from google.colab import drive\n",
        "drive.mount('/content/drive')"
      ]
    },
    {
      "cell_type": "code",
      "execution_count": 4,
      "metadata": {
        "id": "GUIgKA2N22mB"
      },
      "outputs": [],
      "source": [
        "from PIL import Image\n",
        "import numpy as np\n",
        "import os\n",
        "\n",
        "def load_images_and_labels(image_folder):\n",
        "    images = []\n",
        "    labels = []\n",
        "    for img_file in os.listdir(image_folder):\n",
        "        img_path = os.path.join(image_folder, img_file)\n",
        "\n",
        "        img = Image.open(img_path).resize((256, 256))\n",
        "        img = np.array(img).flatten()\n",
        "        images.append(img)\n",
        "\n",
        "        label = int(img_file.split('_')[0])\n",
        "        labels.append(label)\n",
        "\n",
        "    return np.array(images), np.array(labels)\n",
        "\n",
        "image_folder = '/content/drive/MyDrive/Deep_Learning/ProjectTask1/train_data'\n",
        "\n",
        "X, y = load_images_and_labels(image_folder)"
      ]
    },
    {
      "cell_type": "code",
      "execution_count": 18,
      "metadata": {
        "id": "ud3Rs_YmoKJL"
      },
      "outputs": [],
      "source": [
        "from sklearn.decomposition import PCA\n",
        "\n",
        "n_components = 128\n",
        "pca = PCA(n_components=n_components)\n",
        "X_reduced = pca.fit_transform(X)"
      ]
    },
    {
      "cell_type": "code",
      "execution_count": 19,
      "metadata": {
        "colab": {
          "base_uri": "https://localhost:8080/"
        },
        "id": "AogecbgPoLsW",
        "outputId": "2f11097d-8014-4f75-cfba-3486a7b7a54f"
      },
      "outputs": [
        {
          "name": "stdout",
          "output_type": "stream",
          "text": [
            "Epoch [1/50], Loss: 3.7172\n",
            "Epoch [2/50], Loss: 3.1061\n",
            "Epoch [3/50], Loss: 2.6586\n",
            "Epoch [4/50], Loss: 2.2987\n",
            "Epoch [5/50], Loss: 1.9611\n",
            "Epoch [6/50], Loss: 1.6308\n",
            "Epoch [7/50], Loss: 1.3815\n",
            "Epoch [8/50], Loss: 1.1081\n",
            "Epoch [9/50], Loss: 0.8770\n",
            "Epoch [10/50], Loss: 0.7129\n",
            "Epoch [11/50], Loss: 0.5466\n",
            "Epoch [12/50], Loss: 0.4669\n",
            "Epoch [13/50], Loss: 0.4024\n",
            "Epoch [14/50], Loss: 0.3382\n",
            "Epoch [15/50], Loss: 0.2620\n",
            "Epoch [16/50], Loss: 0.2587\n",
            "Epoch [17/50], Loss: 0.2575\n",
            "Epoch [18/50], Loss: 0.2318\n",
            "Epoch [19/50], Loss: 0.2041\n",
            "Epoch [20/50], Loss: 0.1829\n",
            "Epoch [21/50], Loss: 0.1814\n",
            "Epoch [22/50], Loss: 0.1692\n",
            "Epoch [23/50], Loss: 0.1255\n",
            "Epoch [24/50], Loss: 0.1354\n",
            "Epoch [25/50], Loss: 0.1453\n",
            "Epoch [26/50], Loss: 0.1386\n",
            "Epoch [27/50], Loss: 0.1472\n",
            "Epoch [28/50], Loss: 0.1455\n",
            "Epoch [29/50], Loss: 0.1302\n",
            "Epoch [30/50], Loss: 0.1474\n",
            "Epoch [31/50], Loss: 0.1526\n",
            "Epoch [32/50], Loss: 0.1374\n",
            "Epoch [33/50], Loss: 0.1400\n",
            "Epoch [34/50], Loss: 0.1176\n",
            "Epoch [35/50], Loss: 0.1039\n",
            "Epoch [36/50], Loss: 0.1085\n",
            "Epoch [37/50], Loss: 0.1171\n",
            "Epoch [38/50], Loss: 0.1199\n",
            "Epoch [39/50], Loss: 0.1043\n",
            "Epoch [40/50], Loss: 0.1290\n",
            "Epoch [41/50], Loss: 0.1267\n",
            "Epoch [42/50], Loss: 0.1038\n",
            "Epoch [43/50], Loss: 0.0840\n",
            "Epoch [44/50], Loss: 0.1137\n",
            "Epoch [45/50], Loss: 0.1283\n",
            "Epoch [46/50], Loss: 0.1113\n",
            "Epoch [47/50], Loss: 0.0917\n",
            "Epoch [48/50], Loss: 0.1028\n",
            "Epoch [49/50], Loss: 0.0977\n",
            "Epoch [50/50], Loss: 0.0733\n"
          ]
        }
      ],
      "source": [
        "import torch\n",
        "import torch.nn as nn\n",
        "import torch.optim as optim\n",
        "import torch.nn.functional as F\n",
        "from torch.utils.data import DataLoader, TensorDataset\n",
        "import matplotlib.pyplot as plt\n",
        "\n",
        "device = torch.device(\"cuda\" if torch.cuda.is_available() else \"cpu\")\n",
        "\n",
        "class NN(nn.Module):\n",
        "    def __init__(self, input_size, num_classes):\n",
        "        super(NN, self).__init__()\n",
        "        self.fc1 = nn.Linear(input_size, 512)\n",
        "        self.bn1 = nn.BatchNorm1d(512)\n",
        "\n",
        "        self.fc2 = nn.Linear(512, 256)\n",
        "        self.bn2 = nn.BatchNorm1d(256)\n",
        "\n",
        "        self.fc3 = nn.Linear(256, 128)\n",
        "        self.bn3 = nn.BatchNorm1d(128)\n",
        "\n",
        "        self.fc4 = nn.Linear(128, 64)\n",
        "        self.bn4 = nn.BatchNorm1d(64)\n",
        "        self.dropout4 = nn.Dropout(0.2)\n",
        "\n",
        "        self.fc5 = nn.Linear(64, num_classes)\n",
        "\n",
        "    def forward(self, x):\n",
        "        x = (F.relu(self.bn1(self.fc1(x))))\n",
        "        x = F.relu(self.bn2(self.fc2(x)))\n",
        "        x = (F.relu(self.bn3(self.fc3(x))))\n",
        "        x = self.dropout4(F.relu(self.bn4(self.fc4(x))))\n",
        "        x = self.fc5(x)\n",
        "\n",
        "        return x\n",
        "\n",
        "input_size = n_components\n",
        "num_classes = len(np.unique(y))\n",
        "learning_rate = 0.001\n",
        "batch_size = 32\n",
        "\n",
        "X_tensor = torch.tensor(X_reduced, dtype=torch.float32)\n",
        "y_tensor = torch.tensor(y - 1, dtype=torch.long)\n",
        "\n",
        "dataset = TensorDataset(X_tensor, y_tensor)\n",
        "dataloader = DataLoader(dataset, batch_size=batch_size, shuffle=True)\n",
        "\n",
        "model = NN(input_size=n_components, num_classes=num_classes).to(device)\n",
        "\n",
        "criterion = nn.CrossEntropyLoss()\n",
        "optimizer = optim.Adam(model.parameters(), lr=learning_rate)\n",
        "\n",
        "losses = []\n",
        "\n",
        "num_epochs = 50\n",
        "for epoch in range(num_epochs):\n",
        "    epoch_loss = 0\n",
        "    correct = 0\n",
        "    total = 0\n",
        "    model.train()\n",
        "\n",
        "    for batch_X, batch_y in dataloader:\n",
        "        batch_X, batch_y = batch_X.to(device), batch_y.to(device)\n",
        "        outputs = model(batch_X)\n",
        "        loss = criterion(outputs, batch_y)\n",
        "        epoch_loss += loss.item()\n",
        "\n",
        "        optimizer.zero_grad()\n",
        "        loss.backward()\n",
        "        optimizer.step()\n",
        "\n",
        "    avg_loss = epoch_loss / len(dataloader)\n",
        "    losses.append(avg_loss)\n",
        "\n",
        "    print(f'Epoch [{epoch+1}/{num_epochs}], Loss: {avg_loss:.4f}')\n",
        "\n",
        "torch.save(model.state_dict(), '/content/drive/MyDrive/model_weights.pth')"
      ]
    },
    {
      "cell_type": "code",
      "execution_count": 20,
      "metadata": {
        "colab": {
          "base_uri": "https://localhost:8080/",
          "height": 472
        },
        "id": "8oBw0zpTZ8kB",
        "outputId": "7496dafa-13ab-4225-d8ac-adcb65401412"
      },
      "outputs": [
        {
          "data": {
            "image/png": "[encoded data removed]",
            "text/plain": [
              "<Figure size 640x480 with 1 Axes>"
            ]
          },
          "metadata": {},
          "output_type": "display_data"
        }
      ],
      "source": [
        "plt.plot(range(1, num_epochs + 1), losses, marker='o', label=\"Training Loss\")\n",
        "plt.title(\"Training Loss vs. Epochs\")\n",
        "plt.xlabel(\"Epochs\")\n",
        "plt.ylabel(\"Loss\")\n",
        "plt.legend()\n",
        "plt.show()"
      ]
    },
    {
      "cell_type": "code",
      "execution_count": 21,
      "metadata": {
        "colab": {
          "base_uri": "https://localhost:8080/"
        },
        "id": "sCH8n-g_aKTH",
        "outputId": "6d3948ed-0c68-4a16-b9d7-6096e20570d3"
      },
      "outputs": [
        {
          "name": "stdout",
          "output_type": "stream",
          "text": [
            "Training Accuracy: 100.0%\n"
          ]
        }
      ],
      "source": [
        "model.eval()\n",
        "with torch.no_grad():\n",
        "    correct = 0\n",
        "    total = 0\n",
        "    for batch_X, batch_y in dataloader:\n",
        "        batch_X, batch_y = batch_X.to(device), batch_y.to(device)\n",
        "        outputs = model(batch_X)\n",
        "        _, predicted = torch.max(outputs.data, 1)\n",
        "        total += batch_y.size(0)\n",
        "        correct += (predicted == batch_y).sum().item()\n",
        "\n",
        "    print(f'Training Accuracy: {100 * correct / total}%')"
      ]
    },
    {
      "cell_type": "code",
      "execution_count": 22,
      "metadata": {
        "id": "IyU8oOXJcZ1l"
      },
      "outputs": [],
      "source": [
        "val_folder = '/content/drive/MyDrive/Deep_Learning/ProjectTask1/val_data'\n",
        "X_val,y_val = load_images_and_labels(val_folder)\n",
        "\n",
        "X_reduced_val = pca.fit_transform(X_val)\n",
        "\n",
        "X_tensor_val = torch.tensor(X_reduced_val, dtype=torch.float32)\n",
        "y_tensor_val = torch.tensor(y_val - 1, dtype=torch.long)"
      ]
    },
    {
      "cell_type": "code",
      "execution_count": 23,
      "metadata": {
        "colab": {
          "base_uri": "https://localhost:8080/"
        },
        "id": "pvXWWHeibJsy",
        "outputId": "2ad280b5-b31c-4eb8-c8db-5e55601d7a1e"
      },
      "outputs": [
        {
          "name": "stdout",
          "output_type": "stream",
          "text": [
            "Validation Accuracy: 11.0%\n"
          ]
        }
      ],
      "source": [
        "dataset_val = TensorDataset(X_tensor_val, y_tensor_val)\n",
        "dataloader_val = DataLoader(dataset_val, batch_size=batch_size, shuffle=True)\n",
        "\n",
        "with torch.no_grad():\n",
        "    correct = 0\n",
        "    total = 0\n",
        "    for batch_X, batch_y in dataloader_val:\n",
        "        batch_X, batch_y = batch_X.to(device), batch_y.to(device)\n",
        "        outputs = model(batch_X)\n",
        "        _, predicted = torch.max(outputs.data, 1)\n",
        "        total += batch_y.size(0)\n",
        "        correct += (predicted == batch_y).sum().item()\n",
        "\n",
        "    print(f'Validation Accuracy: {100 * correct / total}%')"
      ]
    },
    {
      "cell_type": "markdown",
      "metadata": {},
      "source": [
        "## Cell For Testing: Just Update the Images and Weights Paths"
      ]
    },
    {
      "cell_type": "code",
      "execution_count": 24,
      "metadata": {
        "colab": {
          "base_uri": "https://localhost:8080/"
        },
        "id": "Px783EnToNPv",
        "outputId": "bd37e9aa-26e7-4161-b54c-768813cdef88"
      },
      "outputs": [
        {
          "name": "stdout",
          "output_type": "stream",
          "text": [
            "Testing Accuracy: 9.833333333333334%\n"
          ]
        },
        {
          "name": "stderr",
          "output_type": "stream",
          "text": [
            "<ipython-input-24-f6a44c5a4cd2>:72: FutureWarning: You are using `torch.load` with `weights_only=False` (the current default value), which uses the default pickle module implicitly. It is possible to construct malicious pickle data which will execute arbitrary code during unpickling (See https://github.com/pytorch/pytorch/blob/main/SECURITY.md#untrusted-models for more details). In a future release, the default value for `weights_only` will be flipped to `True`. This limits the functions that could be executed during unpickling. Arbitrary objects will no longer be allowed to be loaded via this mode unless they are explicitly allowlisted by the user via `torch.serialization.add_safe_globals`. We recommend you start setting `weights_only=True` for any use case where you don't have full control of the loaded file. Please open an issue on GitHub for any issues related to this experimental feature.\n",
            "  model.load_state_dict(torch.load(weights_path))\n"
          ]
        }
      ],
      "source": [
        "# from google.colab import drive\n",
        "# drive.mount('/content/drive')\n",
        "image_folder = '/content/drive/MyDrive/Deep_Learning/ProjectTask1/val_data'\n",
        "weights_path = '/content/drive/MyDrive/model_weights.pth'\n",
        "\n",
        "from PIL import Image\n",
        "import numpy as np\n",
        "import os\n",
        "import torch\n",
        "import torch.nn as nn\n",
        "import torch.optim as optim\n",
        "import torch.nn.functional as F\n",
        "from torch.utils.data import DataLoader, TensorDataset\n",
        "import matplotlib.pyplot as plt\n",
        "from sklearn.decomposition import PCA\n",
        "\n",
        "def load_images_and_labels(image_folder):\n",
        "    images = []\n",
        "    labels = []\n",
        "    for img_file in os.listdir(image_folder):\n",
        "        img_path = os.path.join(image_folder, img_file)\n",
        "\n",
        "        img = Image.open(img_path).resize((256, 256))\n",
        "        img = np.array(img).flatten()\n",
        "        images.append(img)\n",
        "\n",
        "        label = int(img_file.split('_')[0])\n",
        "        labels.append(label)\n",
        "\n",
        "    return np.array(images), np.array(labels)\n",
        "\n",
        "X_val, y_val = load_images_and_labels(image_folder)\n",
        "\n",
        "n_components = 128\n",
        "pca = PCA(n_components=n_components)\n",
        "X_reduced_val = pca.fit_transform(X_val)\n",
        "\n",
        "X_tensor_val = torch.tensor(X_reduced_val, dtype=torch.float32)\n",
        "y_tensor_val = torch.tensor(y_val - 1, dtype=torch.long)\n",
        "\n",
        "dataset = TensorDataset(X_tensor_val, y_tensor_val)\n",
        "dataloader = DataLoader(dataset, batch_size=32, shuffle=True)\n",
        "\n",
        "class NN(nn.Module):\n",
        "    def __init__(self, input_size, num_classes):\n",
        "        super(NN, self).__init__()\n",
        "        self.fc1 = nn.Linear(input_size, 512)\n",
        "        self.bn1 = nn.BatchNorm1d(512)\n",
        "\n",
        "        self.fc2 = nn.Linear(512, 256)\n",
        "        self.bn2 = nn.BatchNorm1d(256)\n",
        "\n",
        "        self.fc3 = nn.Linear(256, 128)\n",
        "        self.bn3 = nn.BatchNorm1d(128)\n",
        "\n",
        "        self.fc4 = nn.Linear(128, 64)\n",
        "        self.bn4 = nn.BatchNorm1d(64)\n",
        "        self.dropout4 = nn.Dropout(0.2)\n",
        "\n",
        "        self.fc5 = nn.Linear(64, num_classes)\n",
        "\n",
        "    def forward(self, x):\n",
        "        x = (F.relu(self.bn1(self.fc1(x))))\n",
        "        x = F.relu(self.bn2(self.fc2(x)))\n",
        "        x = (F.relu(self.bn3(self.fc3(x))))\n",
        "        x = self.dropout4(F.relu(self.bn4(self.fc4(x))))\n",
        "        x = self.fc5(x)\n",
        "\n",
        "        return x\n",
        "\n",
        "model = NN(input_size=n_components, num_classes=60)\n",
        "model.load_state_dict(torch.load(weights_path))\n",
        "model.eval()\n",
        "\n",
        "with torch.no_grad():\n",
        "    correct = 0\n",
        "    total = 0\n",
        "    for batch_X, batch_y in dataloader:\n",
        "        outputs = model(batch_X)\n",
        "        _, predicted = torch.max(outputs.data, 1)\n",
        "        total += batch_y.size(0)\n",
        "        correct += (predicted == batch_y).sum().item()\n",
        "\n",
        "    print(f'Testing Accuracy: {100 * correct / total}%')"
      ]
    }
  ],
  "metadata": {
    "accelerator": "TPU",
    "colab": {
      "gpuType": "V28",
      "provenance": []
    },
    "kernelspec": {
      "display_name": "Python 3",
      "name": "python3"
    },
    "language_info": {
      "name": "python"
    }
  },
  "nbformat": 4,
  "nbformat_minor": 0
}
