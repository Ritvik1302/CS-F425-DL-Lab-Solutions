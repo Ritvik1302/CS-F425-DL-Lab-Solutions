{
 "cells": [
  {
   "cell_type": "code",
   "execution_count": null,
   "metadata": {
    "id": "3LQulcG6RxkW"
   },
   "outputs": [],
   "source": [
    "import os\n",
    "import numpy as np\n",
    "import tensorflow as tf\n",
    "from tensorflow.keras.applications import VGG16\n",
    "from tensorflow.keras.models import Sequential\n",
    "from tensorflow.keras.layers import Dense, Dropout, Flatten\n",
    "from tensorflow.keras.preprocessing.image import ImageDataGenerator\n",
    "from tensorflow.keras.layers import BatchNormalization\n",
    "from tensorflow.keras.utils import to_categorical\n",
    "from sklearn.model_selection import train_test_split\n",
    "from PIL import Image\n",
    "import matplotlib.pyplot as plt"
   ]
  },
  {
   "cell_type": "code",
   "execution_count": null,
   "metadata": {
    "colab": {
     "base_uri": "https://localhost:8080/"
    },
    "id": "wlI0FB1oPJV1",
    "outputId": "d0997ab9-fc37-4ed6-df18-4f3fa6a4ceef"
   },
   "outputs": [
    {
     "name": "stdout",
     "output_type": "stream",
     "text": [
      "Mounted at /content/drive\n"
     ]
    }
   ],
   "source": [
    "from google.colab import drive\n",
    "drive.mount('/content/drive')\n",
    "\n",
    "train_images_path = '/content/drive/MyDrive/Deep_Learning/ProjectTask1/train_data'\n",
    "val_images_path = '/content/drive/MyDrive/Deep_Learning/ProjectTask1/val_data'\n",
    "train_labels_path = '/content/drive/MyDrive/Deep_Learning/ProjectTask1/train_labels.txt'\n",
    "val_labels_path = '/content/drive/MyDrive/Deep_Learning/ProjectTask1/val_labels.txt'"
   ]
  },
  {
   "cell_type": "code",
   "execution_count": 2,
   "metadata": {
    "id": "3dL0FPn3PKSU"
   },
   "outputs": [],
   "source": [
    "img_height, img_width = 224, 224\n",
    "batch_size = 32\n",
    "num_classes = 60\n",
    "\n",
    "def load_labels(label_file):\n",
    "    with open(label_file, 'r') as f:\n",
    "        labels = f.readlines()\n",
    "    labels = np.array([int(label.strip()) for label in labels]) - 1\n",
    "    return to_categorical(labels, num_classes=num_classes)\n",
    "\n",
    "train_labels = load_labels(train_labels_path)\n",
    "val_labels = load_labels(val_labels_path)\n",
    "\n",
    "def load_and_preprocess_images(image_dir):\n",
    "    images = []\n",
    "    for img_file in sorted(os.listdir(image_dir)):\n",
    "        img_path = os.path.join(image_dir, img_file)\n",
    "        img = Image.open(img_path).resize((img_width, img_height))\n",
    "        img = np.array(img) / 255.0\n",
    "        images.append(img)\n",
    "    return np.array(images)\n",
    "\n",
    "train_images = load_and_preprocess_images(train_images_path)\n",
    "val_images = load_and_preprocess_images(val_images_path)"
   ]
  },
  {
   "cell_type": "code",
   "execution_count": 3,
   "metadata": {
    "colab": {
     "base_uri": "https://localhost:8080/"
    },
    "id": "9cSKhOFWPdUl",
    "outputId": "1ff4b135-2d92-446a-a75b-b6287c37bc7c"
   },
   "outputs": [
    {
     "name": "stdout",
     "output_type": "stream",
     "text": [
      "Downloading data from https://storage.googleapis.com/tensorflow/keras-applications/vgg16/vgg16_weights_tf_dim_ordering_tf_kernels_notop.h5\n",
      "58889256/58889256 [==============================] - 0s 0us/step\n",
      "94/94 [==============================] - 57s 605ms/step\n",
      "19/19 [==============================] - 11s 595ms/step\n"
     ]
    }
   ],
   "source": [
    "base_model = VGG16(weights='imagenet', include_top=False, input_shape=(img_height, img_width, 3))\n",
    "\n",
    "base_model.trainable = False\n",
    "\n",
    "train_features = base_model.predict(train_images, batch_size=batch_size)\n",
    "val_features = base_model.predict(val_images, batch_size=batch_size)"
   ]
  },
  {
   "cell_type": "code",
   "execution_count": 14,
   "metadata": {
    "id": "NAnrINCNPLi0"
   },
   "outputs": [],
   "source": [
    "train_features = train_features.reshape(train_features.shape[0], -1)\n",
    "val_features = val_features.reshape(val_features.shape[0], -1)\n",
    "\n",
    "model = Sequential([\n",
    "    Dense(512, activation='relu', input_shape=(train_features.shape[1],)),\n",
    "    BatchNormalization(),\n",
    "    # Dropout(0.2),\n",
    "\n",
    "    Dense(256, activation='relu'),\n",
    "    BatchNormalization(),\n",
    "    # Dropout(0.2),\n",
    "\n",
    "    Dense(128, activation='relu'),\n",
    "    BatchNormalization(),\n",
    "    Dropout(0.2),\n",
    "\n",
    "    Dense(num_classes, activation='softmax')\n",
    "])\n",
    "\n",
    "model.compile(optimizer='adam', loss='categorical_crossentropy', metrics=['accuracy'])"
   ]
  },
  {
   "cell_type": "code",
   "execution_count": 15,
   "metadata": {
    "colab": {
     "base_uri": "https://localhost:8080/"
    },
    "id": "pOkXwDrRPN1k",
    "outputId": "8705bb12-6a8b-441f-e6a8-4dbef64096ba"
   },
   "outputs": [
    {
     "name": "stdout",
     "output_type": "stream",
     "text": [
      "Epoch 1/20\n",
      "94/94 [==============================] - 8s 67ms/step - loss: 2.4312 - accuracy: 0.4167 - val_loss: 4.9132 - val_accuracy: 0.1683\n",
      "Epoch 2/20\n",
      "94/94 [==============================] - 6s 64ms/step - loss: 0.6417 - accuracy: 0.8833 - val_loss: 1.4551 - val_accuracy: 0.6267\n",
      "Epoch 3/20\n",
      "94/94 [==============================] - 6s 65ms/step - loss: 0.1733 - accuracy: 0.9863 - val_loss: 0.9235 - val_accuracy: 0.7883\n",
      "Epoch 4/20\n",
      "94/94 [==============================] - 6s 63ms/step - loss: 0.0663 - accuracy: 0.9970 - val_loss: 0.8238 - val_accuracy: 0.8000\n",
      "Epoch 5/20\n",
      "94/94 [==============================] - 6s 62ms/step - loss: 0.0295 - accuracy: 1.0000 - val_loss: 0.7762 - val_accuracy: 0.8017\n",
      "Epoch 6/20\n",
      "94/94 [==============================] - 6s 64ms/step - loss: 0.0203 - accuracy: 1.0000 - val_loss: 0.7282 - val_accuracy: 0.8083\n",
      "Epoch 7/20\n",
      "94/94 [==============================] - 6s 63ms/step - loss: 0.0144 - accuracy: 0.9997 - val_loss: 0.7577 - val_accuracy: 0.8083\n",
      "Epoch 8/20\n",
      "94/94 [==============================] - 6s 63ms/step - loss: 0.0105 - accuracy: 1.0000 - val_loss: 0.7010 - val_accuracy: 0.8183\n",
      "Epoch 9/20\n",
      "94/94 [==============================] - 6s 63ms/step - loss: 0.0077 - accuracy: 1.0000 - val_loss: 0.6874 - val_accuracy: 0.8100\n",
      "Epoch 10/20\n",
      "94/94 [==============================] - 6s 64ms/step - loss: 0.0059 - accuracy: 1.0000 - val_loss: 0.6794 - val_accuracy: 0.8183\n",
      "Epoch 11/20\n",
      "94/94 [==============================] - 6s 63ms/step - loss: 0.0059 - accuracy: 1.0000 - val_loss: 0.6935 - val_accuracy: 0.8100\n",
      "Epoch 12/20\n",
      "94/94 [==============================] - 6s 65ms/step - loss: 0.0043 - accuracy: 1.0000 - val_loss: 0.6771 - val_accuracy: 0.8133\n",
      "Epoch 13/20\n",
      "94/94 [==============================] - 6s 65ms/step - loss: 0.0040 - accuracy: 1.0000 - val_loss: 0.6637 - val_accuracy: 0.8200\n",
      "Epoch 14/20\n",
      "94/94 [==============================] - 6s 65ms/step - loss: 0.0030 - accuracy: 1.0000 - val_loss: 0.6506 - val_accuracy: 0.8267\n",
      "Epoch 15/20\n",
      "94/94 [==============================] - 6s 64ms/step - loss: 0.0028 - accuracy: 1.0000 - val_loss: 0.6534 - val_accuracy: 0.8200\n",
      "Epoch 16/20\n",
      "94/94 [==============================] - 6s 63ms/step - loss: 0.0026 - accuracy: 1.0000 - val_loss: 0.6628 - val_accuracy: 0.8217\n",
      "Epoch 17/20\n",
      "94/94 [==============================] - 6s 64ms/step - loss: 0.0020 - accuracy: 1.0000 - val_loss: 0.6441 - val_accuracy: 0.8167\n",
      "Epoch 18/20\n",
      "94/94 [==============================] - 6s 64ms/step - loss: 0.0019 - accuracy: 1.0000 - val_loss: 0.6554 - val_accuracy: 0.8250\n",
      "Epoch 19/20\n",
      "94/94 [==============================] - 6s 64ms/step - loss: 0.0018 - accuracy: 1.0000 - val_loss: 0.6560 - val_accuracy: 0.8200\n",
      "Epoch 20/20\n",
      "94/94 [==============================] - 6s 64ms/step - loss: 0.0017 - accuracy: 1.0000 - val_loss: 0.6483 - val_accuracy: 0.8167\n"
     ]
    }
   ],
   "source": [
    "history = model.fit(\n",
    "    train_features, train_labels,\n",
    "    batch_size=batch_size,\n",
    "    epochs=20,\n",
    "    validation_data=(val_features, val_labels)\n",
    ")"
   ]
  },
  {
   "cell_type": "code",
   "execution_count": null,
   "metadata": {},
   "outputs": [
    {
     "data": {
      "image/png": "[encoded data removed]",
      "text/plain": [
       "<Figure size 640x480 with 1 Axes>"
      ]
     },
     "metadata": {},
     "output_type": "display_data"
    }
   ],
   "source": [
    "plt.plot(history.history['loss'], label='Training Loss')\n",
    "plt.plot(history.history['val_loss'], label='Validation Loss')\n",
    "plt.title('Loss vs Epochs')\n",
    "plt.xlabel('Epochs')\n",
    "plt.ylabel('Loss')\n",
    "plt.legend()\n",
    "plt.grid(True)\n",
    "plt.show()"
   ]
  },
  {
   "cell_type": "code",
   "execution_count": 17,
   "metadata": {
    "id": "DkVSfWNLSoZo"
   },
   "outputs": [],
   "source": [
    "model.save_weights('flower_classification_dnn_weights.h5')"
   ]
  },
  {
   "cell_type": "code",
   "execution_count": null,
   "metadata": {
    "colab": {
     "base_uri": "https://localhost:8080/"
    },
    "id": "EAzleNy2O8Kw",
    "outputId": "9e5cab89-aaba-4b32-a0d9-f09979df9a20"
   },
   "outputs": [
    {
     "name": "stdout",
     "output_type": "stream",
     "text": [
      "19/19 [==============================] - 0s 5ms/step - loss: 0.6483 - accuracy: 0.8167\n",
      "Validation Loss: 0.6483068466186523\n",
      "Validation Accuracy: 81.67%\n"
     ]
    }
   ],
   "source": [
    "val_loss, val_accuracy = model.evaluate(val_features, val_labels, batch_size=batch_size)\n",
    "print(f\"Validation Loss: {val_loss}\")\n",
    "print(f\"Validation Accuracy: {val_accuracy * 100:.2f}%\")"
   ]
  },
  {
   "cell_type": "markdown",
   "metadata": {},
   "source": [
    "## Cell For Testing: Update the images and labels path"
   ]
  },
  {
   "cell_type": "code",
   "execution_count": null,
   "metadata": {
    "colab": {
     "base_uri": "https://localhost:8080/"
    },
    "id": "3jPXSOU8SqzE",
    "outputId": "706b18ef-c645-4735-8c36-8f0746b45179"
   },
   "outputs": [
    {
     "name": "stdout",
     "output_type": "stream",
     "text": [
      "19/19 [==============================] - 11s 594ms/step\n",
      "Model weights loaded successfully.\n",
      "19/19 [==============================] - 0s 5ms/step\n",
      "Test Accuracy: 81.67%\n",
      "Predicted Classes: [ 0  0  0  0  0  0  0  0  0  0  1  1  1 57  1  1  1  1  1  1  2 50  2  2\n",
      " 35 29  2  2  2  2  3  3  3  3  3  3  3  3  3  3 15 57 52 46  4  4  4 52\n",
      "  4 24 12 12 25  5  5 25  5  5  5  5 30  6  6 28  6  9 39  6  6  6  7  7\n",
      "  7  7  7  7  7  7  7  7  8  8  8  8  8  8  8  8  8  8  9  9  9  9  9  9\n",
      "  9  9  9  9 10 10 10 10 10 10 10 10 10 10 11 11 11 11 11 45 11 11 11 11\n",
      " 54 54 12 12 12 12 12 12 12 12 13 39 13 21 13 13 15 13 13 28 14 14 14 14\n",
      " 14 14 11 14 14 14  8 15 15  6 15 15  4 39 15 15 16 16 16 16 16 16 16 16\n",
      " 16 16 17 17 17 17  3 17 17  3 30 17 18 18 18 18 18 18 18 18 18 18 19 19\n",
      " 19 37 19 19 19 19 19 19 20 20 20 20 20 20 20 20 20 20 21 51 21 12 21 21\n",
      " 21 21 21 21 22 22 22 22 22 22 22 22 22 22 23 23 22 21 23 23 23 23 23 23\n",
      " 13  9 24 24 24 24 24 15 24 24 25 25 25 25 25 25 25 25 25 25 26 26 26 26\n",
      " 26 26 26 26 26 26 27 27 27 25 27 27 27 27 25 27 28 28 13 28 28  1 37 28\n",
      " 28 28 29 29 29 29 29 29 29 29 29 29 30 30 30 44 30 30 30 30 15 30 31 31\n",
      " 31 31 31 31 31 31 31 31 32 32 32 32 32 32 32 32 32 32 33 33 33 33 33 33\n",
      " 33 53 53 33 34 34 34 34 57 34 34 34 34 34 29 35 35 35 35 35 35 35 35 35\n",
      " 35 36 36 44 36 36 36 36 31 36 37 37 37 37 37 37 44 37 37 37  1 15  7 57\n",
      " 29 38 38 38 49 53 57 39 52 39 39 39 28 39 38 39  8 40 40 51 40 41 40 40\n",
      " 11 40 55 41 41 41 41 41 41 51 33 41 42 42 42 42 42 42 42 42 42 42 51 41\n",
      " 43  8 43 20 41 53 14 43 44 44 32 44 44 44 44 44 44 44 45 52 45 45 45 13\n",
      " 45 45 13 45 47 52 57 46 51 46 46 46 35 46 47  4 47 47 47 47 47 47 45 47\n",
      " 48 48 48 48 48 48 48 48 48 48 49 49 49 49 32 49 49 49 49 59  8 50 24 50\n",
      " 35 50 50 50 50 50 51 51 51 51 51 31 35 31 51 26 52 52 52 52 52 52 52 52\n",
      " 31 52 53 28 52 53 39 49 53  6 53 53 54 54 54 54 54 54 54 54 54 12 55 55\n",
      " 55 55 55 55 55 55 55 55 56 56 56 56 56 56 56 56 56 56 57 57 57 57 57 39\n",
      " 57 57 52 57 58 58 58 58 58 58 58 58 58 58 59 59 59 59 59 59 59 59 59 59]\n"
     ]
    }
   ],
   "source": [
    "test_images_path = '/content/drive/MyDrive/Deep_Learning/ProjectTask1/val_data'\n",
    "test_labels_path = '/content/drive/MyDrive/Deep_Learning/ProjectTask1/val_labels.txt'\n",
    "weights_path = 'flower_classification_dnn_weights.h5'\n",
    "\n",
    "import os\n",
    "import numpy as np\n",
    "import tensorflow as tf\n",
    "from tensorflow.keras.applications import VGG16\n",
    "from tensorflow.keras.models import Sequential\n",
    "from tensorflow.keras.layers import Dense, BatchNormalization, Dropout\n",
    "from PIL import Image\n",
    "\n",
    "img_height, img_width = 224, 224\n",
    "num_classes = 60\n",
    "\n",
    "def load_and_preprocess_images(image_dir):\n",
    "    images = []\n",
    "    for img_file in sorted(os.listdir(image_dir)):\n",
    "        img_path = os.path.join(image_dir, img_file)\n",
    "        img = Image.open(img_path).resize((img_width, img_height))\n",
    "        img = np.array(img) / 255.0\n",
    "        images.append(img)\n",
    "    return np.array(images)\n",
    "\n",
    "\n",
    "test_images = load_and_preprocess_images(test_images_path)\n",
    "\n",
    "base_model = VGG16(weights='imagenet', include_top=False, input_shape=(img_height, img_width, 3))\n",
    "base_model.trainable = False\n",
    "test_features = base_model.predict(test_images)\n",
    "\n",
    "test_features = test_features.reshape(test_features.shape[0], -1)\n",
    "\n",
    "model = Sequential([\n",
    "    Dense(512, activation='relu', input_shape=(test_features.shape[1],)),\n",
    "    BatchNormalization(),\n",
    "    Dropout(0.2),\n",
    "\n",
    "    Dense(256, activation='relu'),\n",
    "    BatchNormalization(),\n",
    "    Dropout(0.2),\n",
    "\n",
    "    Dense(128, activation='relu'),\n",
    "    BatchNormalization(),\n",
    "    Dropout(0.2),\n",
    "\n",
    "    Dense(num_classes, activation='softmax')\n",
    "])\n",
    "\n",
    "model.load_weights(weights_path)\n",
    "print(\"Model weights loaded successfully.\")\n",
    "\n",
    "predictions = model.predict(test_features)\n",
    "predicted_classes = np.argmax(predictions, axis=1)\n",
    "\n",
    "def load_test_labels(label_file):\n",
    "    with open(label_file, 'r') as f:\n",
    "        labels = f.readlines()\n",
    "    labels = np.array([int(label.strip()) for label in labels]) - 1\n",
    "    return to_categorical(labels, num_classes=num_classes)\n",
    "\n",
    "# Optional: Calculate accuracy if you have test labels\n",
    "test_labels = load_test_labels(test_labels_path)\n",
    "test_accuracy = np.mean(predicted_classes == np.argmax(test_labels, axis=1))\n",
    "print(f\"Test Accuracy: {test_accuracy * 100:.2f}%\")\n",
    "\n",
    "print(\"Predicted Classes:\", predicted_classes)"
   ]
  }
 ],
 "metadata": {
  "accelerator": "TPU",
  "colab": {
   "gpuType": "V28",
   "provenance": []
  },
  "kernelspec": {
   "display_name": "Python 3",
   "name": "python3"
  },
  "language_info": {
   "name": "python"
  }
 },
 "nbformat": 4,
 "nbformat_minor": 0
}
