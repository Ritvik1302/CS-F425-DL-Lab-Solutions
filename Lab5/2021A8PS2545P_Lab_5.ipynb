{
  "cells": [
    {
      "cell_type": "code",
      "execution_count": 1,
      "metadata": {
        "id": "aSEldO4CRP-P"
      },
      "outputs": [],
      "source": [
        "import torch\n",
        "from torch.nn import functional as F\n",
        "from torch import nn\n",
        "import torchvision\n",
        "import imageio\n",
        "import numpy as np\n",
        "import matplotlib.pyplot as plt\n",
        "from PIL import Image\n",
        "import matplotlib.pyplot as plt\n",
        "from torchvision.datasets import FashionMNIST\n",
        "from torchvision import transforms\n",
        "import torch.optim as optim\n",
        "import torch.nn.init as init"
      ]
    },
    {
      "cell_type": "code",
      "execution_count": 2,
      "metadata": {
        "id": "ycdbTJJ9RP-U"
      },
      "outputs": [],
      "source": [
        "trainset = FashionMNIST(\"./temp/\", train=True, download=True)\n",
        "testset = FashionMNIST(\"./temp/\", train=False, download=True)"
      ]
    },
    {
      "cell_type": "code",
      "execution_count": 3,
      "metadata": {
        "id": "mds1jN5BRP-W"
      },
      "outputs": [],
      "source": [
        "train_x = trainset.data[:53000].float()/255\n",
        "train_y = trainset.targets[:53000]\n",
        "\n",
        "validation_x = trainset.data[53000:60000].float()/255\n",
        "validation_y = trainset.targets[53000:60000]\n",
        "\n",
        "test_x = testset.data/255\n",
        "test_y = testset.targets"
      ]
    },
    {
      "cell_type": "code",
      "execution_count": 4,
      "metadata": {
        "id": "1SGf5Pu3RP-X"
      },
      "outputs": [],
      "source": [
        "class CNNModel(nn.Module):\n",
        "    def __init__(self):\n",
        "        super().__init__()\n",
        "\n",
        "        self.conv1 = nn.Conv2d(in_channels=1, out_channels=32, kernel_size=3, stride=1, padding=1)\n",
        "        self.conv2 = nn.Conv2d(in_channels=32, out_channels=64, kernel_size=3, stride=1, padding=1)\n",
        "        self.pool = nn.MaxPool2d(kernel_size=2, stride=2)\n",
        "\n",
        "        self.lin1 = nn.Linear(in_features=64*7*7, out_features=128)\n",
        "        self.lin2 = nn.Linear(128, 10)\n",
        "\n",
        "    def forward(self, x):\n",
        "        x = F.relu(self.conv1(x))\n",
        "        x = self.pool(x)\n",
        "        x = F.relu(self.conv2(x))\n",
        "        x = self.pool(x)\n",
        "        x = torch.flatten(x, 1)\n",
        "        x = F.relu(self.lin1(x))\n",
        "        x = self.lin2(x)\n",
        "        return x"
      ]
    },
    {
      "cell_type": "code",
      "execution_count": 5,
      "metadata": {
        "id": "Yr0xtsnJRP-X"
      },
      "outputs": [],
      "source": [
        "train_x = train_x.unsqueeze(1)\n",
        "validation_x = validation_x.unsqueeze(1)\n",
        "test_x = test_x.unsqueeze(1)"
      ]
    },
    {
      "cell_type": "code",
      "execution_count": 6,
      "metadata": {
        "colab": {
          "base_uri": "https://localhost:8080/"
        },
        "id": "Em_BFpLTRP-Y",
        "outputId": "ef1a9b91-536c-489e-b424-0cdfaae986ac"
      },
      "outputs": [
        {
          "output_type": "execute_result",
          "data": {
            "text/plain": [
              "torch.Size([53000, 1, 28, 28])"
            ]
          },
          "metadata": {},
          "execution_count": 6
        }
      ],
      "source": [
        "train_x.shape"
      ]
    },
    {
      "cell_type": "code",
      "execution_count": 7,
      "metadata": {
        "colab": {
          "base_uri": "https://localhost:8080/"
        },
        "id": "yQtOwJ6NRP-Y",
        "outputId": "698184a8-f92d-40b6-ff7f-2fd7ff3c4c1a"
      },
      "outputs": [
        {
          "output_type": "execute_result",
          "data": {
            "text/plain": [
              "True"
            ]
          },
          "metadata": {},
          "execution_count": 7
        }
      ],
      "source": [
        "torch.cuda.is_available()"
      ]
    },
    {
      "cell_type": "code",
      "execution_count": 8,
      "metadata": {
        "id": "orzGaodaRP-c"
      },
      "outputs": [],
      "source": [
        "train_x = train_x.cuda()\n",
        "train_y = train_y.cuda()\n",
        "\n",
        "validation_x = validation_x.cuda()\n",
        "validation_y = validation_y.cuda()\n",
        "\n",
        "test_x = test_x.cuda()"
      ]
    },
    {
      "cell_type": "code",
      "execution_count": 9,
      "metadata": {
        "id": "KByh3s7URP-e"
      },
      "outputs": [],
      "source": [
        "model = CNNModel().cuda()"
      ]
    },
    {
      "cell_type": "code",
      "execution_count": 14,
      "metadata": {
        "id": "E7kC7BCbRP-i"
      },
      "outputs": [],
      "source": [
        "batch_size = 256\n",
        "num_epochs = 30\n",
        "num_batches_per_train_epoch = train_x.shape[0] // batch_size\n",
        "num_batches_validation = validation_x.shape[0] // batch_size"
      ]
    },
    {
      "cell_type": "code",
      "execution_count": 15,
      "metadata": {
        "id": "HqptZ5PQRP-k"
      },
      "outputs": [],
      "source": [
        "optimizer = optim.SGD(model.parameters(), lr = 0.01)\n",
        "criterion = nn.CrossEntropyLoss()"
      ]
    },
    {
      "cell_type": "code",
      "execution_count": 16,
      "metadata": {
        "id": "LbNBuxUJRP-k"
      },
      "outputs": [],
      "source": [
        "def get_accuracy(predictions, targets):\n",
        "  length = len(predictions)\n",
        "  correct = 0\n",
        "  for idx in range(length):\n",
        "    if predictions[idx] == targets[idx]: correct +=1\n",
        "\n",
        "  return (correct/length) * 100"
      ]
    },
    {
      "cell_type": "code",
      "execution_count": 17,
      "metadata": {
        "colab": {
          "base_uri": "https://localhost:8080/"
        },
        "id": "-gxR4dRRRP-n",
        "outputId": "e4f23694-4b9a-4334-90d4-842b70b2d513"
      },
      "outputs": [
        {
          "output_type": "stream",
          "name": "stdout",
          "text": [
            "Epoch  0 : Train Loss 1.764383 , Train acc 29.727129, Valid acc 52.835648\n",
            "Epoch  1 : Train Loss 0.926152 , Train acc 64.260643, Valid acc 70.326968\n",
            "Epoch  2 : Train Loss 0.608028 , Train acc 72.792120, Valid acc 72.135417\n",
            "Epoch  3 : Train Loss 0.553524 , Train acc 74.701842, Valid acc 73.683449\n",
            "Epoch  4 : Train Loss 0.520261 , Train acc 76.253019, Valid acc 74.956597\n",
            "Epoch  5 : Train Loss 0.495811 , Train acc 77.353185, Valid acc 75.564236\n",
            "Epoch  6 : Train Loss 0.476375 , Train acc 78.300498, Valid acc 76.591435\n",
            "Epoch  7 : Train Loss 0.459799 , Train acc 79.028910, Valid acc 78.211806\n",
            "Epoch  8 : Train Loss 0.445211 , Train acc 79.749774, Valid acc 78.978588\n",
            "Epoch  9 : Train Loss 0.432727 , Train acc 80.400815, Valid acc 79.890046\n",
            "Epoch 10 : Train Loss 0.421004 , Train acc 81.023551, Valid acc 80.237269\n",
            "Epoch 11 : Train Loss 0.410247 , Train acc 81.574577, Valid acc 81.134259\n",
            "Epoch 12 : Train Loss 0.400435 , Train acc 82.116168, Valid acc 81.857639\n",
            "Epoch 13 : Train Loss 0.391230 , Train acc 82.584164, Valid acc 82.378472\n",
            "Epoch 14 : Train Loss 0.382716 , Train acc 83.021966, Valid acc 82.957176\n",
            "Epoch 15 : Train Loss 0.374583 , Train acc 83.410704, Valid acc 83.449074\n",
            "Epoch 16 : Train Loss 0.366926 , Train acc 83.733394, Valid acc 83.622685\n",
            "Epoch 17 : Train Loss 0.359723 , Train acc 84.073068, Valid acc 83.912037\n",
            "Epoch 18 : Train Loss 0.353035 , Train acc 84.388210, Valid acc 84.215856\n",
            "Epoch 19 : Train Loss 0.346744 , Train acc 84.703351, Valid acc 84.259259\n",
            "Epoch 20 : Train Loss 0.340903 , Train acc 84.926027, Valid acc 84.418403\n",
            "Epoch 21 : Train Loss 0.335484 , Train acc 85.177008, Valid acc 84.707755\n",
            "Epoch 22 : Train Loss 0.330429 , Train acc 85.392135, Valid acc 84.664352\n",
            "Epoch 23 : Train Loss 0.325755 , Train acc 85.629906, Valid acc 84.866898\n",
            "Epoch 24 : Train Loss 0.321449 , Train acc 85.833711, Valid acc 84.910301\n",
            "Epoch 25 : Train Loss 0.317258 , Train acc 86.007322, Valid acc 85.127315\n",
            "Epoch 26 : Train Loss 0.313331 , Train acc 86.165836, Valid acc 85.127315\n",
            "Epoch 27 : Train Loss 0.309606 , Train acc 86.333786, Valid acc 85.170718\n",
            "Epoch 28 : Train Loss 0.306105 , Train acc 86.490414, Valid acc 85.300926\n",
            "Epoch 29 : Train Loss 0.302715 , Train acc 86.650815, Valid acc 85.127315\n"
          ]
        }
      ],
      "source": [
        "epoch_loss = 0\n",
        "losses_at_each_epoch = list()\n",
        "train_accuracies = list()\n",
        "validation_accuracies = list()\n",
        "\n",
        "for epoch in range(num_epochs):\n",
        "  epoch_loss = 0\n",
        "\n",
        "  model.train()\n",
        "  train_preds = list()\n",
        "  train_targets = list()\n",
        "\n",
        "  for batch_idx in range(num_batches_per_train_epoch):\n",
        "\n",
        "    optimizer.zero_grad()\n",
        "\n",
        "    input = train_x[batch_idx*batch_size: (batch_idx+1)*batch_size]\n",
        "    output = model(input)\n",
        "    target_out = train_y[batch_idx*batch_size: (batch_idx+1)*batch_size]\n",
        "    preds = torch.argmax(output, dim=1)\n",
        "\n",
        "    train_preds +=(list(preds.detach().cpu().numpy()))\n",
        "    train_targets+=(list(target_out.detach().cpu().numpy()))\n",
        "    batch_loss = criterion(output, target_out)\n",
        "\n",
        "    batch_loss.backward()\n",
        "    optimizer.step()\n",
        "    epoch_loss += batch_loss\n",
        "  losses_at_each_epoch.append(epoch_loss.detach().cpu() / batch_size)\n",
        "\n",
        "  model.eval()\n",
        "\n",
        "  val_preds = list()\n",
        "  val_targets = list()\n",
        "\n",
        "  for batch_idx in range(num_batches_validation):\n",
        "    input = validation_x[batch_idx*batch_size: (batch_idx+1)*batch_size]\n",
        "    output = model(input)\n",
        "    target_out = validation_y[batch_idx*batch_size: (batch_idx+1)*batch_size]\n",
        "    preds = torch.max(output, 1)[1]\n",
        "\n",
        "\n",
        "    val_preds += (list(preds.detach().cpu().numpy()))\n",
        "    val_targets+=(list(target_out.detach().cpu().numpy()))\n",
        "\n",
        "  train_accuracies.append(get_accuracy(train_preds, train_targets))\n",
        "  validation_accuracies.append(get_accuracy(val_preds, val_targets))\n",
        "\n",
        "  print(\"Epoch %2i : Train Loss %f , Train acc %f, Valid acc %f\" % (\n",
        "              epoch, losses_at_each_epoch[-1], train_accuracies[-1], validation_accuracies[-1]))\n"
      ]
    },
    {
      "cell_type": "code",
      "execution_count": 18,
      "metadata": {
        "colab": {
          "base_uri": "https://localhost:8080/",
          "height": 467
        },
        "id": "UKnKosA9RP-o",
        "outputId": "5dd69c53-5f41-4907-8e06-8131383a88cc"
      },
      "outputs": [
        {
          "output_type": "execute_result",
          "data": {
            "text/plain": [
              "(Text(0.5, 0, 'Updates'), Text(0, 0.5, 'Acc'))"
            ]
          },
          "metadata": {},
          "execution_count": 18
        },
        {
          "output_type": "display_data",
          "data": {
            "text/plain": [
              "<Figure size 640x480 with 1 Axes>"
            ],
            "image/png": "[encoded data removed]"
          },
          "metadata": {}
        }
      ],
      "source": [
        "epoch = np.arange(len(train_accuracies))\n",
        "plt.figure()\n",
        "plt.plot(epoch, train_accuracies, 'r', epoch, validation_accuracies, 'b')\n",
        "plt.legend(['Train Accuracy','Validation Accuracy'])\n",
        "plt.xlabel('Updates'), plt.ylabel('Acc')"
      ]
    },
    {
      "cell_type": "code",
      "execution_count": 19,
      "metadata": {
        "colab": {
          "base_uri": "https://localhost:8080/"
        },
        "id": "SOgLsu99RP-o",
        "outputId": "62ef715a-1cf2-45ef-9f5f-5ccf5f0173e9"
      },
      "outputs": [
        {
          "output_type": "execute_result",
          "data": {
            "text/plain": [
              "84.7"
            ]
          },
          "metadata": {},
          "execution_count": 19
        }
      ],
      "source": [
        "get_accuracy(torch.argmax(model(test_x),dim=1).detach().cpu().numpy(), test_y)"
      ]
    },
    {
      "cell_type": "code",
      "execution_count": 20,
      "metadata": {
        "colab": {
          "base_uri": "https://localhost:8080/"
        },
        "id": "k_DKgXkERP-o",
        "outputId": "24851452-7811-489e-e425-7976136bf706"
      },
      "outputs": [
        {
          "output_type": "execute_result",
          "data": {
            "text/plain": [
              "421642"
            ]
          },
          "metadata": {},
          "execution_count": 20
        }
      ],
      "source": [
        "model_parameters = filter(lambda p: p.requires_grad, model.parameters())\n",
        "num_params = sum([np.prod(p.size()) for p in model_parameters])\n",
        "num_params"
      ]
    }
  ],
  "metadata": {
    "kernelspec": {
      "display_name": "Python 3",
      "name": "python3"
    },
    "language_info": {
      "codemirror_mode": {
        "name": "ipython",
        "version": 3
      },
      "file_extension": ".py",
      "mimetype": "text/x-python",
      "name": "python",
      "nbconvert_exporter": "python",
      "pygments_lexer": "ipython3",
      "version": "3.10.11"
    },
    "colab": {
      "provenance": [],
      "gpuType": "T4"
    },
    "accelerator": "GPU"
  },
  "nbformat": 4,
  "nbformat_minor": 0
}